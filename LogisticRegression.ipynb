{
  "cells": [
    {
      "cell_type": "markdown",
      "metadata": {
        "id": "view-in-github",
        "colab_type": "text"
      },
      "source": [
        "<a href=\"https://colab.research.google.com/github/danielsuassuna04/Logistic-Regression-Numpy/blob/main/LogisticRegression.ipynb\" target=\"_parent\"><img src=\"https://colab.research.google.com/assets/colab-badge.svg\" alt=\"Open In Colab\"/></a>"
      ]
    },
    {
      "cell_type": "code",
      "execution_count": null,
      "metadata": {
        "id": "SRvHyGNJAc2h"
      },
      "outputs": [],
      "source": [
        "import numpy as np"
      ]
    },
    {
      "cell_type": "code",
      "execution_count": null,
      "metadata": {
        "colab": {
          "base_uri": "https://localhost:8080/"
        },
        "id": "boEU_zhsPGDB",
        "outputId": "00ef54a3-f0d1-4ce0-b246-28b76a24d7c7"
      },
      "outputs": [
        {
          "output_type": "stream",
          "name": "stdout",
          "text": [
            "[[300]]\n"
          ]
        }
      ],
      "source": [
        "w = np.array([10,10,10]).reshape(1,3)\n",
        "x = np.array([10,10,10]).reshape(3,1)"
      ]
    },
    {
      "cell_type": "code",
      "execution_count": null,
      "metadata": {
        "id": "LVjlGUWhW1wt"
      },
      "outputs": [],
      "source": [
        "import numpy as np\n",
        "import time\n",
        "from sklearn.metrics import accuracy_score\n",
        "\n",
        "\n",
        "\n",
        "class logisticRegression:\n",
        "  def __init__(self):\n",
        "    return\n",
        "  def fit(self,X,Y, learning_rate=0.01,epochs=100000):\n",
        "    W = np.zeros(X.shape[1])\n",
        "    b = 0\n",
        "    m = X.shape[0]\n",
        "    for x in range(epochs):\n",
        "      Z = np.dot(X,W.T) + b\n",
        "      a = 1/(1+np.exp(-Z))\n",
        "      dZ = a-Y\n",
        "      db = 1/m*np.sum(dZ)\n",
        "      dW = 1/m*np.dot(dZ.T,X)\n",
        "      loss = np.sum(-(Y*np.log(a) + (1-Y)*np.log(1-a)))/m\n",
        "      a = (a>=0.5).astype(int)\n",
        "      accuracy = accuracy_score(Y,a)\n",
        "      if  x % 997 == 0 and x != 0:\n",
        "        for i in range(10):\n",
        "          if i < 9:\n",
        "            print(\"•\",end=\"\")\n",
        "          else:\n",
        "            print(\">\", end=\" \")\n",
        "          time.sleep(0.5)\n",
        "        print(f\"epoch: {x//997}, Loss: {loss}, accuracy: {accuracy}\")\n",
        "      temp_w = W - learning_rate*dW\n",
        "      temp_b = b - learning_rate*db\n",
        "      W = temp_w\n",
        "      b = temp_b\n",
        "\n",
        "    self.W = W\n",
        "    self.b = b\n",
        "  def predict(self,X):\n",
        "    Z = np.dot(X,self.W.T) + self.b\n",
        "    a = 1/(1+np.exp(-Z))\n",
        "\n",
        "    return (a>=0.5).astype(int)\n"
      ]
    },
    {
      "cell_type": "code",
      "source": [
        "X = np.array([[3,5,3,5],[5,4,6,3],[10,3,2,8],[5,4,2,2],[2,8,7,3],[0,6,7,4],[5,3,2,1],[2,5,3,2],[0,0,1,1]])\n",
        "Y = np.array([1,0,1,0,1,1,1,0,1])"
      ],
      "metadata": {
        "id": "d2VF_5klSREh"
      },
      "execution_count": null,
      "outputs": []
    },
    {
      "cell_type": "code",
      "execution_count": null,
      "metadata": {
        "id": "0qWNOyYTiyRG"
      },
      "outputs": [],
      "source": [
        "a = logisticRegression()"
      ]
    },
    {
      "cell_type": "code",
      "source": [
        "w = np.zeros(X.shape[1])\n",
        "print(np.dot(X,w.T))"
      ],
      "metadata": {
        "colab": {
          "base_uri": "https://localhost:8080/"
        },
        "id": "B0LgEgr6W89_",
        "outputId": "269043ca-75c8-4982-90d9-cf9638ca9c65"
      },
      "execution_count": null,
      "outputs": [
        {
          "output_type": "stream",
          "name": "stdout",
          "text": [
            "[0. 0. 0. 0. 0. 0. 0. 0. 0.]\n"
          ]
        }
      ]
    },
    {
      "cell_type": "code",
      "execution_count": null,
      "metadata": {
        "colab": {
          "base_uri": "https://localhost:8080/"
        },
        "id": "Y_6xp8vlkJ2-",
        "outputId": "5970fe7b-3132-45b2-cffb-4e822a6fe9e5"
      },
      "outputs": [
        {
          "output_type": "stream",
          "name": "stdout",
          "text": [
            "•••••••••> epoch: 1, Loss: 0.49435611997310946, accuracy: 0.7777777777777778\n",
            "•••••••••> epoch: 2, Loss: 0.4940519440730248, accuracy: 0.7777777777777778\n",
            "•••••••••> epoch: 3, Loss: 0.4940419162759315, accuracy: 0.7777777777777778\n",
            "•••••••••> epoch: 4, Loss: 0.494041551235845, accuracy: 0.7777777777777778\n",
            "•••••••••> epoch: 5, Loss: 0.4940415377018229, accuracy: 0.7777777777777778\n",
            "•••••••••> epoch: 6, Loss: 0.4940415371982821, accuracy: 0.7777777777777778\n",
            "•••••••••> epoch: 7, Loss: 0.4940415371795349, accuracy: 0.7777777777777778\n",
            "•••••••••> epoch: 8, Loss: 0.4940415371788368, accuracy: 0.7777777777777778\n",
            "•••••••••> epoch: 9, Loss: 0.49404153717881083, accuracy: 0.7777777777777778\n",
            "•••••••••> epoch: 10, Loss: 0.49404153717880983, accuracy: 0.7777777777777778\n"
          ]
        }
      ],
      "source": [
        "a.fit(X,Y,epochs=10000,learning_rate=0.05)"
      ]
    }
  ],
  "metadata": {
    "colab": {
      "provenance": [],
      "authorship_tag": "ABX9TyMsEwqQwW+pt20h/eKDGHwq",
      "include_colab_link": true
    },
    "kernelspec": {
      "display_name": "Python 3",
      "name": "python3"
    },
    "language_info": {
      "name": "python"
    }
  },
  "nbformat": 4,
  "nbformat_minor": 0
}